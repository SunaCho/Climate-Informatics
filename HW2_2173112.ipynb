{
  "cells": [
    {
      "cell_type": "markdown",
      "metadata": {},
      "source": [
        "* **기후정보학및실습** HW2\n",
        "조선아(2173112)"
      ]
    },
    {
      "cell_type": "code",
      "execution_count": 1,
      "metadata": {
        "id": "9WNmeOacjjM2"
      },
      "outputs": [],
      "source": [
        "# 라이브러리 임포트\n",
        "import numpy as np"
      ]
    },
    {
      "cell_type": "markdown",
      "metadata": {
        "id": "z_lLB3U3mKoG"
      },
      "source": [
        "1) Create a list with the English names of every planet in the solar system (in order)."
      ]
    },
    {
      "cell_type": "code",
      "execution_count": 2,
      "metadata": {
        "id": "2WmjsgBfmLce"
      },
      "outputs": [],
      "source": [
        "# solar 리스트 생성\n",
        "solar = ['Mercury', 'Venus', 'Earth', 'Mars', 'Jupiter', 'Saturn', 'Uranus', 'Neptune']"
      ]
    },
    {
      "cell_type": "markdown",
      "metadata": {
        "id": "98_a0GgvnNGT"
      },
      "source": [
        "2) Have Python tell you how many planets there are by examining your list."
      ]
    },
    {
      "cell_type": "code",
      "execution_count": 3,
      "metadata": {
        "colab": {
          "base_uri": "https://localhost:8080/",
          "height": 0
        },
        "id": "JWFjdygAmPdU",
        "outputId": "036c1b94-05f2-4eb8-a103-3832198b563c"
      },
      "outputs": [
        {
          "name": "stdout",
          "output_type": "stream",
          "text": [
            "8 planets\n"
          ]
        }
      ],
      "source": [
        "# solar 리스트의 길이 출력\n",
        "print(str(len(solar)) + ' planets')"
      ]
    },
    {
      "cell_type": "markdown",
      "metadata": {
        "id": "yajRApufnS4B"
      },
      "source": [
        "3) Use slicing to display the first four planets (the rocky planets)."
      ]
    },
    {
      "cell_type": "code",
      "execution_count": 4,
      "metadata": {
        "colab": {
          "base_uri": "https://localhost:8080/",
          "height": 0
        },
        "id": "k8MsZaO9nUww",
        "outputId": "c1256d24-7e06-462b-c8f6-d1c51ba7d96e"
      },
      "outputs": [
        {
          "name": "stdout",
          "output_type": "stream",
          "text": [
            "['Mercury', 'Venus', 'Earth', 'Mars']\n"
          ]
        }
      ],
      "source": [
        "# solar 리스트에서 순서대로 4개 출력(슬라이싱)\n",
        "print(solar[:4])"
      ]
    },
    {
      "cell_type": "markdown",
      "metadata": {
        "id": "_iPy_SOenXDO"
      },
      "source": [
        "4) Iterate through your planets and print the planet name only if it has an s at the end."
      ]
    },
    {
      "cell_type": "code",
      "execution_count": 5,
      "metadata": {
        "colab": {
          "base_uri": "https://localhost:8080/",
          "height": 0
        },
        "id": "V0PW6K3RnYf2",
        "outputId": "c87c2df8-f696-46cd-ad12-e41df0958d1a"
      },
      "outputs": [
        {
          "name": "stdout",
          "output_type": "stream",
          "text": [
            "Venus\n",
            "Mars\n",
            "Uranus\n"
          ]
        }
      ],
      "source": [
        "for planet in solar: # solar 리스트의 항목의 끝이 s로 끝나면 출력(반복문)\n",
        "  if planet.endswith(\"s\"):\n",
        "    print(planet)"
      ]
    },
    {
      "cell_type": "markdown",
      "metadata": {
        "id": "wY09tejdoCdX"
      },
      "source": [
        "5) Now create a dictionary that maps each planet name to its mass."
      ]
    },
    {
      "cell_type": "code",
      "execution_count": 6,
      "metadata": {
        "id": "hsvw2zrtxeww"
      },
      "outputs": [],
      "source": [
        "data = [0.330, 4.87, 5.97, 0.642, 1898, 568, 86.8, 102] # 질량 리스트(단위: 10**24 kg)\n",
        "solar_mass = dict(zip(solar, data)) # solar(이름)와 data(질량)를 대응하여 solar_mass dictionary 생성"
      ]
    },
    {
      "cell_type": "code",
      "execution_count": 7,
      "metadata": {
        "colab": {
          "base_uri": "https://localhost:8080/",
          "height": 0
        },
        "id": "Nzxl7XmfvhVn",
        "outputId": "e1126b69-6419-474d-8163-7e2e3450f9f1"
      },
      "outputs": [
        {
          "data": {
            "text/plain": [
              "{'Mercury': 0.33,\n",
              " 'Venus': 4.87,\n",
              " 'Earth': 5.97,\n",
              " 'Mars': 0.642,\n",
              " 'Jupiter': 1898,\n",
              " 'Saturn': 568,\n",
              " 'Uranus': 86.8,\n",
              " 'Neptune': 102}"
            ]
          },
          "execution_count": 7,
          "metadata": {},
          "output_type": "execute_result"
        }
      ],
      "source": [
        "solar_mass # 단위: 10**24 kg"
      ]
    },
    {
      "cell_type": "markdown",
      "metadata": {
        "id": "wKEgaT4jqmxA"
      },
      "source": [
        "6) Use your dictionary to look up Earth’s mass."
      ]
    },
    {
      "cell_type": "code",
      "execution_count": 8,
      "metadata": {
        "colab": {
          "base_uri": "https://localhost:8080/",
          "height": 0
        },
        "id": "asvFDwQpqpTI",
        "outputId": "63e0e06b-2ba5-4233-c1dd-db1e675f644a"
      },
      "outputs": [
        {
          "name": "stdout",
          "output_type": "stream",
          "text": [
            "5.97 (단위: 10**24 kg)\n"
          ]
        }
      ],
      "source": [
        "print(str(solar_mass['Earth']) + ' (단위: 10**24 kg)') # 지구의 질량 출력 (단위: 10**24 kg)"
      ]
    },
    {
      "cell_type": "markdown",
      "metadata": {
        "id": "4pc2r896quzm"
      },
      "source": [
        "7) Loop through the data and create a list of planets whose mast is greater than 100 x 10**24 kg."
      ]
    },
    {
      "cell_type": "code",
      "execution_count": 9,
      "metadata": {
        "colab": {
          "base_uri": "https://localhost:8080/",
          "height": 0
        },
        "id": "q_dMjgW1qxUO",
        "outputId": "b077c96a-2630-40f0-eeca-3fce92b576f5"
      },
      "outputs": [
        {
          "name": "stdout",
          "output_type": "stream",
          "text": [
            "['Jupiter', 'Saturn', 'Neptune']\n"
          ]
        }
      ],
      "source": [
        "planet_list = [] # 새 리스트 생성\n",
        "\n",
        "for planet, masses in solar_mass.items():\n",
        "  if masses > 100: # 딕셔너리의 아이템 중 제시된 질량을 넘으면 리스트에 이름을 추가 (단위: 10**24 kg)\n",
        "    planet_list.append(planet)\n",
        "\n",
        "print(planet_list) # 이름 출력"
      ]
    },
    {
      "cell_type": "markdown",
      "metadata": {},
      "source": [
        "> 다른 풀이: 행성 이름, 행성 질량 사이트에서 읽어오기\n",
        "* !pip install beautifulsoup4 requests"
      ]
    },
    {
      "cell_type": "code",
      "execution_count": 10,
      "metadata": {},
      "outputs": [
        {
          "name": "stdout",
          "output_type": "stream",
          "text": [
            "['Mercury', 'Venus', 'Earth', 'Mars', 'Jupiter', 'Saturn', 'Uranus', 'Neptune']\n",
            "[0.33, 4.87, 5.97, 0.642, 1898.0, 568.0, 86.8, 102.0]\n"
          ]
        }
      ],
      "source": [
        "import requests\n",
        "from bs4 import BeautifulSoup\n",
        "\n",
        "url = \"https://nssdc.gsfc.nasa.gov/planetary/factsheet/\"\n",
        "\n",
        "response = requests.get(url)\n",
        "soup = BeautifulSoup(response.content, \"html.parser\") # 위 주소에서 html 요소를 가져옴\n",
        "trs = soup.select('tr') # 사이트 html의 <tr>(table의 각 행)을 찾아서 읽음\n",
        "solar = [td.get_text().strip().capitalize() for td in trs[0].find_all('td')[1:-1] if td.get_text().strip() != 'MOON']\n",
        "#solar: 첫 행(trs[0])에서 MOON과 PLUTO를 제외한 공백 제외(.strip()) 대소문자 구별(capitalize()) 텍스트를 읽음\n",
        "data = [float(td.get_text()) for td in trs[1].find_all('td')[1:-1] if td.get_text() != '0.073']\n",
        "#solar: 둘째 행(trs[1])에서 MOON과 PLUTO의 데이터를 제외한 숫자를 읽음\n",
        "\n",
        "print(solar)\n",
        "print(data) # 단위: 10**24 kg\n",
        "\n",
        "# 데이터 읽어오기 이후 풀이는 위의 기존 코드와 같음"
      ]
    }
  ],
  "metadata": {
    "colab": {
      "provenance": []
    },
    "kernelspec": {
      "display_name": "Python 3",
      "name": "python3"
    },
    "language_info": {
      "codemirror_mode": {
        "name": "ipython",
        "version": 3
      },
      "file_extension": ".py",
      "mimetype": "text/x-python",
      "name": "python",
      "nbconvert_exporter": "python",
      "pygments_lexer": "ipython3",
      "version": "3.11.0"
    }
  },
  "nbformat": 4,
  "nbformat_minor": 0
}
